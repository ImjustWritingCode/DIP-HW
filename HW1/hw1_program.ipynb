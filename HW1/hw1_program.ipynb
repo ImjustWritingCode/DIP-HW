{
 "cells": [
  {
   "cell_type": "code",
   "execution_count": null,
   "id": "7d0ee26a",
   "metadata": {},
   "outputs": [
    {
     "name": "stdout",
     "output_type": "stream",
     "text": [
      "Image stored.\n"
     ]
    }
   ],
   "source": [
    "from PIL import Image\n",
    "import numpy as np\n",
    "\n",
    "# 設定圖片檔案路徑\n",
    "image_paths = ['DSC01313.jpg', 'DSC01314.jpg', 'DSC01315.jpg', 'DSC01316.jpg', 'DSC01317.jpg']\n",
    "\n",
    "images = [Image.open(path).convert('RGB') for path in image_paths]\n",
    "width, height = images[0].size\n",
    "\n",
    "# 將圖片轉為 numpy 陣列，形狀為 (5, 高, 寬, 3)\n",
    "image_arrays = np.array([np.array(img) for img in images])\n",
    "\n",
    "# 計算平均值和中位數\n",
    "average_image = np.mean(image_arrays, axis=0).astype(np.uint8)\n",
    "median_image = np.median(image_arrays, axis=0).astype(np.uint8)\n",
    "\n",
    "# 儲存結果\n",
    "Image.fromarray(average_image).save('average.png')\n",
    "Image.fromarray(median_image).save('median.png')\n",
    "\n",
    "print(\"Image stored.\")"
   ]
  }
 ],
 "metadata": {
  "kernelspec": {
   "display_name": "Python 3",
   "language": "python",
   "name": "python3"
  },
  "language_info": {
   "codemirror_mode": {
    "name": "ipython",
    "version": 3
   },
   "file_extension": ".py",
   "mimetype": "text/x-python",
   "name": "python",
   "nbconvert_exporter": "python",
   "pygments_lexer": "ipython3",
   "version": "3.12.10"
  }
 },
 "nbformat": 4,
 "nbformat_minor": 5
}
